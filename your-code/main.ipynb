{
 "cells": [
  {
   "cell_type": "markdown",
   "metadata": {},
   "source": [
    "#### 1. Import pandas library"
   ]
  },
  {
   "cell_type": "code",
   "execution_count": 2,
   "metadata": {},
   "outputs": [],
   "source": [
    "import pandas as pd\n",
    "import numpy as np"
   ]
  },
  {
   "cell_type": "markdown",
   "metadata": {},
   "source": [
    "#### 2. Import users table:"
   ]
  },
  {
   "cell_type": "code",
   "execution_count": 3,
   "metadata": {},
   "outputs": [],
   "source": [
    "tb_users = pd.read_csv('users_table.csv')\n",
    "#tb_users.columns\n",
    "#tb.head()"
   ]
  },
  {
   "cell_type": "markdown",
   "metadata": {},
   "source": [
    "#### 3. Rename Id column to userId"
   ]
  },
  {
   "cell_type": "code",
   "execution_count": 4,
   "metadata": {},
   "outputs": [],
   "source": [
    "tb_users.rename(columns={'Id':'userId'},inplace=True)\n",
    "#tb_users.columns"
   ]
  },
  {
   "cell_type": "markdown",
   "metadata": {},
   "source": [
    "#### 4. Import posts table:"
   ]
  },
  {
   "cell_type": "code",
   "execution_count": 5,
   "metadata": {},
   "outputs": [],
   "source": [
    "tb_posts = pd.read_csv('posts_table.csv')\n",
    "#tb_posts.columns"
   ]
  },
  {
   "cell_type": "markdown",
   "metadata": {},
   "source": [
    "#### 5. Rename Id column to postId and OwnerUserId to userId"
   ]
  },
  {
   "cell_type": "code",
   "execution_count": 6,
   "metadata": {},
   "outputs": [],
   "source": [
    "tb_posts.rename(columns={'Id':'postId',\n",
    "                         'OwnerUserId': 'userId'},inplace=True)\n",
    "#tb_posts.columns"
   ]
  },
  {
   "cell_type": "markdown",
   "metadata": {},
   "source": [
    "#### 6. Define new dataframes for users and posts with the following selected columns:\n",
    "    **users columns**: userId, Reputation,Views,UpVotes,DownVotes\n",
    "    **posts columns**: postId, Score,userId,ViewCount,CommentCount"
   ]
  },
  {
   "cell_type": "code",
   "execution_count": 7,
   "metadata": {},
   "outputs": [],
   "source": [
    "new_users = tb_users[['userId', 'Reputation','Views','UpVotes','DownVotes']]\n",
    "new_posts = tb_posts[['postId', 'Score','userId','ViewCount','CommentCount']]"
   ]
  },
  {
   "cell_type": "markdown",
   "metadata": {},
   "source": [
    "#### 7. Merge both dataframes, users and posts. \n",
    "You will need to make a [merge](https://pandas.pydata.org/pandas-docs/stable/generated/pandas.DataFrame.merge.html) of posts and users dataframes."
   ]
  },
  {
   "cell_type": "code",
   "execution_count": 8,
   "metadata": {},
   "outputs": [],
   "source": [
    "new_df = new_users.merge(new_posts, left_on='userId', right_on='userId')\n",
    "#new_df.head()"
   ]
  },
  {
   "cell_type": "markdown",
   "metadata": {},
   "source": [
    "#### 8. How many missing values do you have in your merged dataframe? On which columns?"
   ]
  },
  {
   "cell_type": "code",
   "execution_count": 9,
   "metadata": {},
   "outputs": [
    {
     "output_type": "execute_result",
     "data": {
      "text/plain": [
       "userId              0\n",
       "Reputation          0\n",
       "Views               0\n",
       "UpVotes             0\n",
       "DownVotes           0\n",
       "postId              0\n",
       "Score               0\n",
       "ViewCount       23572\n",
       "CommentCount        0\n",
       "dtype: int64"
      ]
     },
     "metadata": {},
     "execution_count": 9
    }
   ],
   "source": [
    "new_df.isnull().sum()\n",
    "new_df.isna().sum()"
   ]
  },
  {
   "cell_type": "markdown",
   "metadata": {},
   "source": [
    "#### 9. You will need to make something with missing values.  Will you clean or filling them? Explain. \n",
    "**Remember** to check the results of your code before passing to the next step"
   ]
  },
  {
   "cell_type": "code",
   "execution_count": 10,
   "metadata": {},
   "outputs": [],
   "source": [
    "new_df.shape\n",
    "\"\"\"\n",
    "The total lines in the data is 38962 and we have 23572 that are missing, so we have 60,5% of the total rows with no information. So I decided to drop this column\n",
    "\"\"\"\n",
    "new_df.drop(columns='ViewCount',inplace=True)\n",
    "#new_df.columns"
   ]
  },
  {
   "cell_type": "markdown",
   "metadata": {},
   "source": [
    "#### 10. Adjust the data types in order to avoid future issues. Which ones should be changed? "
   ]
  },
  {
   "cell_type": "code",
   "execution_count": 11,
   "metadata": {},
   "outputs": [
    {
     "output_type": "stream",
     "name": "stdout",
     "text": [
      "[]\n"
     ]
    }
   ],
   "source": [
    "\"\"\"Low Variance\"\"\"\n",
    "low_variance = []\n",
    " \n",
    "for col in new_df._get_numeric_data():\n",
    "    minimum = min(new_df[col])\n",
    "    ninety_perc = np.percentile(new_df[col], 90)\n",
    "    if ninety_perc == minimum:\n",
    "        low_variance.append(col)\n",
    " \n",
    "print(low_variance) #gives no column with low variance\n",
    "\n",
    "#the list is empty, so we can conclued that there isn't no column with low variance"
   ]
  },
  {
   "cell_type": "code",
   "execution_count": 21,
   "metadata": {},
   "outputs": [
    {
     "output_type": "execute_result",
     "data": {
      "text/plain": [
       "                count          mean           std   min       25%      50%  \\\n",
       "userId        38962.0   6079.063087   5224.896435  -1.0   1317.00   4856.0   \n",
       "Reputation    38962.0   7281.091679  15164.527714   1.0    147.00    909.0   \n",
       "Views         38962.0   1400.648016   3423.886887   0.0     16.00    124.0   \n",
       "UpVotes       38962.0    914.799677   2296.527060   0.0      4.00     65.0   \n",
       "DownVotes     38962.0     43.841050    161.797079   0.0      0.00      1.0   \n",
       "postId        38962.0  22960.799651  13696.932471   1.0  11325.25  22373.5   \n",
       "Score         38962.0      4.083081      6.561843 -19.0      1.00      2.0   \n",
       "CommentCount  38962.0      2.014630      2.674018   0.0      0.00      1.0   \n",
       "\n",
       "                  75%      max       IQR  \n",
       "userId         9651.0  55226.0   8334.00  \n",
       "Reputation     7931.0  87393.0   7784.00  \n",
       "Views          1050.0  20932.0   1034.00  \n",
       "UpVotes         582.0  11442.0    578.00  \n",
       "DownVotes        16.0   1920.0     16.00  \n",
       "postId        33688.5  48325.0  22363.25  \n",
       "Score             5.0    192.0      4.00  \n",
       "CommentCount      3.0     45.0      3.00  "
      ],
      "text/html": "<div>\n<style scoped>\n    .dataframe tbody tr th:only-of-type {\n        vertical-align: middle;\n    }\n\n    .dataframe tbody tr th {\n        vertical-align: top;\n    }\n\n    .dataframe thead th {\n        text-align: right;\n    }\n</style>\n<table border=\"1\" class=\"dataframe\">\n  <thead>\n    <tr style=\"text-align: right;\">\n      <th></th>\n      <th>count</th>\n      <th>mean</th>\n      <th>std</th>\n      <th>min</th>\n      <th>25%</th>\n      <th>50%</th>\n      <th>75%</th>\n      <th>max</th>\n      <th>IQR</th>\n    </tr>\n  </thead>\n  <tbody>\n    <tr>\n      <th>userId</th>\n      <td>38962.0</td>\n      <td>6079.063087</td>\n      <td>5224.896435</td>\n      <td>-1.0</td>\n      <td>1317.00</td>\n      <td>4856.0</td>\n      <td>9651.0</td>\n      <td>55226.0</td>\n      <td>8334.00</td>\n    </tr>\n    <tr>\n      <th>Reputation</th>\n      <td>38962.0</td>\n      <td>7281.091679</td>\n      <td>15164.527714</td>\n      <td>1.0</td>\n      <td>147.00</td>\n      <td>909.0</td>\n      <td>7931.0</td>\n      <td>87393.0</td>\n      <td>7784.00</td>\n    </tr>\n    <tr>\n      <th>Views</th>\n      <td>38962.0</td>\n      <td>1400.648016</td>\n      <td>3423.886887</td>\n      <td>0.0</td>\n      <td>16.00</td>\n      <td>124.0</td>\n      <td>1050.0</td>\n      <td>20932.0</td>\n      <td>1034.00</td>\n    </tr>\n    <tr>\n      <th>UpVotes</th>\n      <td>38962.0</td>\n      <td>914.799677</td>\n      <td>2296.527060</td>\n      <td>0.0</td>\n      <td>4.00</td>\n      <td>65.0</td>\n      <td>582.0</td>\n      <td>11442.0</td>\n      <td>578.00</td>\n    </tr>\n    <tr>\n      <th>DownVotes</th>\n      <td>38962.0</td>\n      <td>43.841050</td>\n      <td>161.797079</td>\n      <td>0.0</td>\n      <td>0.00</td>\n      <td>1.0</td>\n      <td>16.0</td>\n      <td>1920.0</td>\n      <td>16.00</td>\n    </tr>\n    <tr>\n      <th>postId</th>\n      <td>38962.0</td>\n      <td>22960.799651</td>\n      <td>13696.932471</td>\n      <td>1.0</td>\n      <td>11325.25</td>\n      <td>22373.5</td>\n      <td>33688.5</td>\n      <td>48325.0</td>\n      <td>22363.25</td>\n    </tr>\n    <tr>\n      <th>Score</th>\n      <td>38962.0</td>\n      <td>4.083081</td>\n      <td>6.561843</td>\n      <td>-19.0</td>\n      <td>1.00</td>\n      <td>2.0</td>\n      <td>5.0</td>\n      <td>192.0</td>\n      <td>4.00</td>\n    </tr>\n    <tr>\n      <th>CommentCount</th>\n      <td>38962.0</td>\n      <td>2.014630</td>\n      <td>2.674018</td>\n      <td>0.0</td>\n      <td>0.00</td>\n      <td>1.0</td>\n      <td>3.0</td>\n      <td>45.0</td>\n      <td>3.00</td>\n    </tr>\n  </tbody>\n</table>\n</div>"
     },
     "metadata": {},
     "execution_count": 21
    }
   ],
   "source": [
    "\"\"\"Extreme Values and Outliers\"\"\"\n",
    "stats = new_df.describe().transpose()\n",
    "stats['IQR'] = stats['75%'] - stats['25%']\n",
    "stats"
   ]
  },
  {
   "cell_type": "code",
   "execution_count": 22,
   "metadata": {},
   "outputs": [
    {
     "output_type": "execute_result",
     "data": {
      "text/plain": [
       "      userId Reputation Views UpVotes DownVotes postId Score CommentCount  \\\n",
       "1808     183      22625  4069    2496        45    201     8            0   \n",
       "1809     183      22625  4069    2496        45    202    11            0   \n",
       "1810     183      22625  4069    2496        45    203    16            2   \n",
       "1811     183      22625  4069    2496        45    204     7            2   \n",
       "1812     183      22625  4069    2496        45    210     9            3   \n",
       "...      ...        ...   ...     ...       ...    ...   ...          ...   \n",
       "38621  18531         70     9       1         0  47750     0           11   \n",
       "38625  18546         31    32       0         0  47444     0           11   \n",
       "38770  19788        180    14      13         0  47989     3           10   \n",
       "38861  21466        565    19       0         0   7224    89           10   \n",
       "38950  43908        384    77      18         0  25811    47           11   \n",
       "\n",
       "            Outlier  \n",
       "1808     Reputation  \n",
       "1809     Reputation  \n",
       "1810     Reputation  \n",
       "1811     Reputation  \n",
       "1812     Reputation  \n",
       "...             ...  \n",
       "38621  CommentCount  \n",
       "38625  CommentCount  \n",
       "38770  CommentCount  \n",
       "38861  CommentCount  \n",
       "38950  CommentCount  \n",
       "\n",
       "[27009 rows x 9 columns]"
      ],
      "text/html": "<div>\n<style scoped>\n    .dataframe tbody tr th:only-of-type {\n        vertical-align: middle;\n    }\n\n    .dataframe tbody tr th {\n        vertical-align: top;\n    }\n\n    .dataframe thead th {\n        text-align: right;\n    }\n</style>\n<table border=\"1\" class=\"dataframe\">\n  <thead>\n    <tr style=\"text-align: right;\">\n      <th></th>\n      <th>userId</th>\n      <th>Reputation</th>\n      <th>Views</th>\n      <th>UpVotes</th>\n      <th>DownVotes</th>\n      <th>postId</th>\n      <th>Score</th>\n      <th>CommentCount</th>\n      <th>Outlier</th>\n    </tr>\n  </thead>\n  <tbody>\n    <tr>\n      <th>1808</th>\n      <td>183</td>\n      <td>22625</td>\n      <td>4069</td>\n      <td>2496</td>\n      <td>45</td>\n      <td>201</td>\n      <td>8</td>\n      <td>0</td>\n      <td>Reputation</td>\n    </tr>\n    <tr>\n      <th>1809</th>\n      <td>183</td>\n      <td>22625</td>\n      <td>4069</td>\n      <td>2496</td>\n      <td>45</td>\n      <td>202</td>\n      <td>11</td>\n      <td>0</td>\n      <td>Reputation</td>\n    </tr>\n    <tr>\n      <th>1810</th>\n      <td>183</td>\n      <td>22625</td>\n      <td>4069</td>\n      <td>2496</td>\n      <td>45</td>\n      <td>203</td>\n      <td>16</td>\n      <td>2</td>\n      <td>Reputation</td>\n    </tr>\n    <tr>\n      <th>1811</th>\n      <td>183</td>\n      <td>22625</td>\n      <td>4069</td>\n      <td>2496</td>\n      <td>45</td>\n      <td>204</td>\n      <td>7</td>\n      <td>2</td>\n      <td>Reputation</td>\n    </tr>\n    <tr>\n      <th>1812</th>\n      <td>183</td>\n      <td>22625</td>\n      <td>4069</td>\n      <td>2496</td>\n      <td>45</td>\n      <td>210</td>\n      <td>9</td>\n      <td>3</td>\n      <td>Reputation</td>\n    </tr>\n    <tr>\n      <th>...</th>\n      <td>...</td>\n      <td>...</td>\n      <td>...</td>\n      <td>...</td>\n      <td>...</td>\n      <td>...</td>\n      <td>...</td>\n      <td>...</td>\n      <td>...</td>\n    </tr>\n    <tr>\n      <th>38621</th>\n      <td>18531</td>\n      <td>70</td>\n      <td>9</td>\n      <td>1</td>\n      <td>0</td>\n      <td>47750</td>\n      <td>0</td>\n      <td>11</td>\n      <td>CommentCount</td>\n    </tr>\n    <tr>\n      <th>38625</th>\n      <td>18546</td>\n      <td>31</td>\n      <td>32</td>\n      <td>0</td>\n      <td>0</td>\n      <td>47444</td>\n      <td>0</td>\n      <td>11</td>\n      <td>CommentCount</td>\n    </tr>\n    <tr>\n      <th>38770</th>\n      <td>19788</td>\n      <td>180</td>\n      <td>14</td>\n      <td>13</td>\n      <td>0</td>\n      <td>47989</td>\n      <td>3</td>\n      <td>10</td>\n      <td>CommentCount</td>\n    </tr>\n    <tr>\n      <th>38861</th>\n      <td>21466</td>\n      <td>565</td>\n      <td>19</td>\n      <td>0</td>\n      <td>0</td>\n      <td>7224</td>\n      <td>89</td>\n      <td>10</td>\n      <td>CommentCount</td>\n    </tr>\n    <tr>\n      <th>38950</th>\n      <td>43908</td>\n      <td>384</td>\n      <td>77</td>\n      <td>18</td>\n      <td>0</td>\n      <td>25811</td>\n      <td>47</td>\n      <td>11</td>\n      <td>CommentCount</td>\n    </tr>\n  </tbody>\n</table>\n<p>27009 rows × 9 columns</p>\n</div>"
     },
     "metadata": {},
     "execution_count": 22
    }
   ],
   "source": [
    "outliers = pd.DataFrame(columns=new_df.columns)\n",
    " \n",
    "for col in stats.index[1:]:\n",
    "    iqr = stats.at[col,'IQR']\n",
    "    cutoff = iqr * 1.5\n",
    "    lower = stats.at[col,'25%'] - cutoff\n",
    "    upper = stats.at[col,'75%'] + cutoff\n",
    "    results = new_df[(new_df[col] < lower) | \n",
    "                   (new_df[col] > upper)].copy()\n",
    "    results['Outlier'] = col\n",
    "    outliers = outliers.append(results)\n",
    "\n",
    "outliers\n",
    "\n",
    "#we have some possibles outileirs in 27009 rows in different columns. So we have to be carefull with that"
   ]
  },
  {
   "cell_type": "code",
   "execution_count": 130,
   "metadata": {},
   "outputs": [
    {
     "output_type": "execute_result",
     "data": {
      "text/plain": [
       "userId          int64\n",
       "Reputation      int64\n",
       "Views           int64\n",
       "UpVotes         int64\n",
       "DownVotes       int64\n",
       "postId          int64\n",
       "Score           int64\n",
       "CommentCount    int64\n",
       "dtype: object"
      ]
     },
     "metadata": {},
     "execution_count": 130
    }
   ],
   "source": [
    "\"\"\"Data Type Correction\"\"\"\n",
    "new_df.dtypes \n",
    "\n",
    "#the types are corrected"
   ]
  },
  {
   "cell_type": "code",
   "execution_count": 127,
   "metadata": {},
   "outputs": [
    {
     "output_type": "execute_result",
     "data": {
      "text/plain": [
       "'Cleaning Text and Removing Special Characters'"
      ]
     },
     "metadata": {},
     "execution_count": 127
    }
   ],
   "source": [
    "\"\"\"Cleaning Text and Removing Special Characters\"\"\"\n",
    "#This data have all columns with INT and we just need to check the columns names. We previous did that, and it's ok"
   ]
  },
  {
   "cell_type": "code",
   "execution_count": 129,
   "metadata": {},
   "outputs": [
    {
     "output_type": "stream",
     "name": "stdout",
     "text": [
      "Number of duplicate records dropped:  0\n"
     ]
    }
   ],
   "source": [
    "\"\"\"Finding and Removing Duplicates\"\"\"\n",
    "before = len(new_df)\n",
    "new_df = new_df.drop_duplicates()\n",
    "after = len(new_df)\n",
    "print('Number of duplicate records dropped: ', str(before - after))"
   ]
  }
 ],
 "metadata": {
  "kernelspec": {
   "display_name": "Python 3",
   "language": "python",
   "name": "python3"
  },
  "language_info": {
   "codemirror_mode": {
    "name": "ipython",
    "version": 3
   },
   "file_extension": ".py",
   "mimetype": "text/x-python",
   "name": "python",
   "nbconvert_exporter": "python",
   "pygments_lexer": "ipython3",
   "version": "3.8.3-final"
  }
 },
 "nbformat": 4,
 "nbformat_minor": 2
}